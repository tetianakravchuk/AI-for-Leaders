{
 "cells": [
  {
   "cell_type": "markdown",
   "id": "4441d563-75a4-4c32-b1e7-2c229477ca1c",
   "metadata": {},
   "source": [
    "\n",
    "<h1 style=\"color:green;\"># Week 4 - Univariate Analysis, part 2</h1>"
   ]
  },
  {
   "cell_type": "markdown",
   "id": "98e23199-b611-403a-b843-2369d14d29bd",
   "metadata": {
    "jp-MarkdownHeadingCollapsed": true
   },
   "source": [
    "\n",
    "<h1><mark># 1. Lesson - None</mark></h1>"
   ]
  },
  {
   "cell_type": "markdown",
   "id": "35a7a0ae-f55f-455f-a951-478605b5e192",
   "metadata": {},
   "source": [
    "\n",
    "<h1><mark># 2. Weekly graph question\n",
    "</mark></h1>"
   ]
  },
  {
   "cell_type": "markdown",
   "id": "6807d39d-413e-4ce2-9281-3dd73eda198f",
   "metadata": {},
   "source": [
    "Below are a histogram and boxplot representation of the same data. A pharmacy is keeping a record of the prices of the drugs that it sells, and an administrator wants to know how much the more expensive drugs tend to cost, in the context of the other prices.\n",
    "\n",
    "Please write a short explanation of the pros and cons of these two representations. Which would you choose? How would you modify the formatting, if at all, to make it more visually interesting, clear, or informative?"
   ]
  },
  {
   "cell_type": "code",
   "execution_count": 1,
   "id": "1888593e-817d-4148-954d-5d156593bd8d",
   "metadata": {},
   "outputs": [],
   "source": [
    "import numpy as np\n",
    "import pandas as pd\n",
    "\n",
    "np.random.seed(0)\n",
    "num_data = 100\n",
    "data = np.exp(np.random.uniform(size = num_data) * 4)\n",
    "df = pd.DataFrame(data.T, columns = [\"data\"])"
   ]
  },
  {
   "cell_type": "code",
   "execution_count": 2,
   "id": "13745ab1-8a9b-4568-bf56-3245fa36a358",
   "metadata": {},
   "outputs": [
    {
     "name": "stdout",
     "output_type": "stream",
     "text": [
      "The 75th percentile is: data    15.457656\n",
      "Name: 0.75, dtype: float64\n"
     ]
    },
    {
     "data": {
      "text/plain": [
       "<Axes: ylabel='Frequency'>"
      ]
     },
     "execution_count": 2,
     "metadata": {},
     "output_type": "execute_result"
    },
    {
     "data": {
      "image/png": "[encoded data removed]",
      "text/plain": [
       "<Figure size 640x480 with 1 Axes>"
      ]
     },
     "metadata": {},
     "output_type": "display_data"
    }
   ],
   "source": [
    "print(\"The 75th percentile is:\", df.quantile(q = 0.75))\n",
    "df.plot.hist()"
   ]
  },
  {
   "cell_type": "code",
   "execution_count": 3,
   "id": "d4dbce72-bd33-43a2-b3e7-354a1cca6e39",
   "metadata": {},
   "outputs": [
    {
     "data": {
      "text/plain": [
       "<Axes: >"
      ]
     },
     "execution_count": 3,
     "metadata": {},
     "output_type": "execute_result"
    },
    {
     "data": {
      "image/png": "[encoded data removed]",
      "text/plain": [
       "<Figure size 640x480 with 1 Axes>"
      ]
     },
     "metadata": {},
     "output_type": "display_data"
    }
   ],
   "source": [
    "df.plot.box()"
   ]
  },
  {
   "cell_type": "markdown",
   "id": "ac951963",
   "metadata": {},
   "source": [
    "<h1 style=\"color:blue;\">Answer</h1>"
   ]
  },
  {
   "cell_type": "markdown",
   "id": "f64c8628",
   "metadata": {},
   "source": [
    "\n",
    "## ✅ Histogram\n",
    "\n",
    "### **Pros:**\n",
    "- ✔ **Shows the full distribution:** We can see the frequency of different price ranges.\n",
    "- ✔ **Highlights skewness and modality:** If the data has multiple peaks or is skewed it will be visible.\n",
    "- ✔ **Granular insights:** We can adjust bin sizes to analyze finer details.\n",
    "\n",
    "### **Cons:**\n",
    "- ❌ **Does not show exact percentiles:** Hard to determine medians, quartiles, or outliers.\n",
    "- ❌ **Bin width dependency:** The visualization can change significantly depending on the bin size used.\n",
    "\n",
    "---\n",
    "\n",
    "## 📦 Boxplot\n",
    "\n",
    "### **Pros:**\n",
    "- ✔ **Summarizes distribution compactly:** Shows **median, quartiles, range, and outliers** at a glance.\n",
    "- ✔ **Great for comparing multiple datasets:** If we had different drug categories, we could compare them side by side.\n",
    "- ✔ **Clearly identifies outliers:** Helps detect extremely expensive drugs.\n",
    "\n",
    "### **Cons:**\n",
    "- ❌ **Loses frequency details:** You don’t see how many drugs fall into each price range.\n",
    "- ❌ **Less intuitive for non-experts:** Some people may not be familiar with boxplots.\n",
    "\n",
    "---\n",
    "\n",
    "## 🎯 Which Would I Choose?\n",
    "If the goal is to **see the overall distribution and frequency of prices**, I would **choose a histogram**.  \n",
    "If the goal is to **summarize the price range and detect outliers**, I would **choose a boxplot**.  \n",
    "\n",
    "Since both have unique strengths, I would **display them together** to provide a **full picture**.\n",
    "\n",
    "---\n",
    "\n",
    "## 🔍 Suggestions for Improving Formatting\n",
    "To make the visualizations clearer and more visually appealing:  \n",
    "\n",
    "### **For Histogram:**\n",
    "- **Use more bins** for a smoother curve: `df.plot.hist(bins=20, color=\"royalblue\", edgecolor=\"black\")`\n",
    "- **Add labels and a title** for context.\n"
   ]
  },
  {
   "cell_type": "markdown",
   "id": "49db5219",
   "metadata": {},
   "source": [
    "\n",
    "## 🔍 Suggestions for Improving Formatting\n",
    "To make the visualizations clearer and more visually appealing:  \n",
    "\n",
    "### **For Histogram:**\n",
    "- **Use more bins** for a smoother curve: `df.plot.hist(bins=20, color=\"royalblue\", edgecolor=\"black\")`\n",
    "- **Add labels and a title** for context."
   ]
  },
  {
   "cell_type": "code",
   "execution_count": null,
   "id": "5be6ada0",
   "metadata": {},
   "outputs": [],
   "source": [
    "\n",
    "import matplotlib.pyplot as plt\n",
    "\n",
    "df.plot.hist(bins=20, color=\"royalblue\", edgecolor=\"black\", alpha=0.7)\n",
    "plt.xlabel(\"Drug Prices ($)\")\n",
    "plt.ylabel(\"Frequency\")\n",
    "plt.title(\"Histogram of Drug Prices\")\n",
    "plt.grid(axis=\"y\", linestyle=\"--\", alpha=0.7)\n",
    "plt.show()\n"
   ]
  },
  {
   "cell_type": "markdown",
   "id": "7347fe7d",
   "metadata": {},
   "source": [
    "### **For Boxplot:**\n",
    "- **Show a horizontal boxplot** to make it easier to read.\n",
    "- **Use a log scale** if drug prices are highly skewed."
   ]
  },
  {
   "cell_type": "code",
   "execution_count": null,
   "id": "b6fa28f5",
   "metadata": {},
   "outputs": [],
   "source": [
    "df.plot.box(vert=False, patch_artist=True, boxprops=dict(facecolor=\"lightblue\"))\n",
    "plt.xlabel(\"Drug Prices ($)\")\n",
    "plt.title(\"Boxplot of Drug Prices\")\n",
    "plt.grid(axis=\"x\", linestyle=\"--\", alpha=0.7)\n",
    "plt.show()"
   ]
  },
  {
   "cell_type": "markdown",
   "id": "8088e642",
   "metadata": {},
   "source": [
    "\n",
    "## 📌 **Final Thoughts**\n",
    "If I had to **choose only one**, I would prefer a **boxplot** because it effectively **summarizes** key statistics and highlights expensive drugs as **outliers**. However, **combining both** gives a **complete view** of the data, which is the best approach for analysis.\n"
   ]
  },
  {
   "cell_type": "markdown",
   "id": "ab830464-2f92-4281-a2d3-474ffd26d1c7",
   "metadata": {},
   "source": [
    "# 3. Homework - working on your datasets\n"
   ]
  },
  {
   "cell_type": "markdown",
   "id": "e892ba10-7f81-4330-9863-73f65fbdc4bd",
   "metadata": {},
   "source": [
    "This week, you will do the same types of exercises as last week, but you should use your chosen datasets that someone in your class found last semester. (They likely will not be the particular datasets that you found yourself.)\n",
    "\n",
    "### Here are some types of analysis you can do:\n",
    "\n",
    "- Draw histograms and histogram variants for each feature or column.  (Swarm plot, kde plot, violin plot).\n",
    "\n",
    "- Draw grouped histograms.  For instance, if you have tree heights for both maple and oak trees, you could draw histograms for both.\n",
    "\n",
    "- Draw a bar plot to indicate total counts of each categorical variable in a given column.\n",
    "\n",
    "- Find means, medians, and modes.\n",
    "\n",
    "### Conclusions:\n",
    "\n",
    "- Explain what conclusions you would draw from this analysis: are the data what you expect?  Are the data likely to be usable?  If they are not useable, find some new data!\n",
    "\n",
    "- What is the overall shape of the distribution?  Is it normal, skewed, bimodal, uniform, etc.?\n",
    "\n",
    "- Are there any outliers present?  (Data points that are far from the others.)\n",
    "\n",
    "- If there are multiple related histograms, how does the distribution change across different groups?\n",
    "\n",
    "- What are the minimum and maximum values represented in each histogram?\n",
    "\n",
    "- How do bin sizes affect the histogram?  Does changing the bin width reveal different patterns in the data?\n",
    "\n",
    "- Does the distribution appear normal, or does it have a different distribution?"
   ]
  },
  {
   "cell_type": "markdown",
   "id": "ef173a5e",
   "metadata": {},
   "source": [
    "<h1 style=\"color:blue;\">Answer</h1>"
   ]
  },
  {
   "cell_type": "markdown",
   "id": "d947274f",
   "metadata": {},
   "source": [
    "   ## 1. Drawing Histograms and Variants\n",
    "\n",
    "## a. Histograms:\n"
   ]
  },
  {
   "cell_type": "code",
   "execution_count": null,
   "id": "576c2d69",
   "metadata": {},
   "outputs": [
    {
     "data": {
      "image/png": "[encoded data removed]",
      "text/plain": [
       "<Figure size 1000x600 with 1 Axes>"
      ]
     },
     "metadata": {},
     "output_type": "display_data"
    }
   ],
   "source": [
    "import pandas as pd\n",
    "import matplotlib.pyplot as plt\n",
    "\n",
    "# Load dataset\n",
    "df = pd.read_csv('/Users/tetianakravchuk/Downloads/E-Commerce Data.csv', encoding='ISO-8859-1')\n",
    "\n",
    "# Plot histogram for UnitPrice\n",
    "plt.figure(figsize=(10, 6))\n",
    "plt.hist(df['UnitPrice'], bins=50, color='blue', edgecolor='black')\n",
    "plt.title('Distribution of Unit Prices')\n",
    "plt.xlabel('Unit Price')\n",
    "plt.ylabel('Frequency')\n",
    "plt.show()"
   ]
  },
  {
   "cell_type": "markdown",
   "id": "a535ea7a",
   "metadata": {},
   "source": [
    "## b. Kernel Density Estimate (KDE) Plot:\n",
    "A KDE plot is a non-parametric way to estimate the probability density function of a continuous variable. It provides a smooth curve that represents the data distribution."
   ]
  },
  {
   "cell_type": "code",
   "execution_count": null,
   "id": "e72db130",
   "metadata": {},
   "outputs": [
    {
     "name": "stderr",
     "output_type": "stream",
     "text": [
      "/var/folders/p3/flb1440j2m91zj4hzc5j50t80000gn/T/ipykernel_71202/2211468849.py:5: FutureWarning: \n",
      "\n",
      "`shade` is now deprecated in favor of `fill`; setting `fill=True`.\n",
      "This will become an error in seaborn v0.14.0; please update your code.\n",
      "\n",
      "  sns.kdeplot(df['UnitPrice'], shade=True, color='green')\n"
     ]
    },
    {
     "data": {
      "image/png": "[encoded data removed]",
      "text/plain": [
       "<Figure size 1000x600 with 1 Axes>"
      ]
     },
     "metadata": {},
     "output_type": "display_data"
    }
   ],
   "source": [
    "import seaborn as sns\n",
    "\n",
    "# Plot KDE for UnitPrice\n",
    "plt.figure(figsize=(10, 6))\n",
    "sns.kdeplot(df['UnitPrice'], shade=True, color='green')\n",
    "plt.title('KDE Plot of Unit Prices')\n",
    "plt.xlabel('Unit Price')\n",
    "plt.ylabel('Density')\n",
    "plt.show()"
   ]
  },
  {
   "cell_type": "markdown",
   "id": "d474d18c",
   "metadata": {},
   "source": [
    "## c. Violin Plot:\n",
    "Violin plots combine aspects of box plots and KDE plots, showing the distribution of the data across different categories. They are particularly useful for comparing distributions between multiple groups."
   ]
  },
  {
   "cell_type": "code",
   "execution_count": null,
   "id": "958a174f",
   "metadata": {},
   "outputs": [
    {
     "data": {
      "image/png": "[encoded data removed]",
      "text/plain": [
       "<Figure size 1000x600 with 1 Axes>"
      ]
     },
     "metadata": {},
     "output_type": "display_data"
    }
   ],
   "source": [
    "# Violin plot for UnitPrice\n",
    "plt.figure(figsize=(10, 6))\n",
    "sns.violinplot(x='UnitPrice', data=df, inner='quartile', color='purple')\n",
    "plt.title('Violin Plot of Unit Prices')\n",
    "plt.xlabel('Unit Price')\n",
    "plt.show()"
   ]
  },
  {
   "cell_type": "markdown",
   "id": "9804a36f",
   "metadata": {},
   "source": [
    "## d. Swarm Plot:\n",
    "Swarm plots display individual data points and are useful for visualizing the distribution of data points in a categorical context."
   ]
  },
  {
   "cell_type": "code",
   "execution_count": null,
   "id": "3a7497fe",
   "metadata": {},
   "outputs": [],
   "source": [
    "# Swarm plot for UnitPrice\n",
    "plt.figure(figsize=(10, 6))\n",
    "sns.swarmplot(x='UnitPrice', data=df, color='red')\n",
    "plt.title('Swarm Plot of Unit Prices')\n",
    "plt.xlabel('Unit Price')\n",
    "plt.show()"
   ]
  },
  {
   "cell_type": "markdown",
   "id": "add1273e",
   "metadata": {},
   "source": [
    "## 2. Drawing Grouped Histograms\n",
    "\n",
    "Grouped histograms allow comparison of distributions across different categories. For example, comparing the UnitPrice distribution for different Country values can provide insights into regional pricing differences."
   ]
  },
  {
   "cell_type": "code",
   "execution_count": null,
   "id": "81578357",
   "metadata": {},
   "outputs": [],
   "source": [
    "# Grouped histogram of UnitPrice by Country\n",
    "plt.figure(figsize=(12, 8))\n",
    "countries = ['United Kingdom', 'Germany', 'France']  # Example countries\n",
    "for country in countries:\n",
    "    subset = df[df['Country'] == country]\n",
    "    plt.hist(subset['UnitPrice'], bins=50, alpha=0.5, label=country)\n",
    "\n",
    "plt.title('Grouped Histogram of Unit Prices by Country')\n",
    "plt.xlabel('Unit Price')\n",
    "plt.ylabel('Frequency')\n",
    "plt.legend()\n",
    "plt.show()"
   ]
  },
  {
   "cell_type": "markdown",
   "id": "6ed35aa2",
   "metadata": {},
   "source": [
    "## 3. Drawing Bar Plots for Categorical Variables\n",
    "\n",
    "Bar plots are effective for visualizing the count of categorical variables. For instance, displaying the number of transactions per country can highlight the most active markets."
   ]
  },
  {
   "cell_type": "code",
   "execution_count": null,
   "id": "9a2348a2",
   "metadata": {},
   "outputs": [],
   "source": [
    "# Bar plot for number of transactions per country\n",
    "plt.figure(figsize=(14, 7))\n",
    "country_counts = df['Country'].value_counts()\n",
    "country_counts.plot(kind='bar', color='skyblue')\n",
    "plt.title('Number of Transactions per Country')\n",
    "plt.xlabel('Country')\n",
    "plt.ylabel('Number of Transactions')\n",
    "plt.show()"
   ]
  },
  {
   "cell_type": "markdown",
   "id": "2710c1bd",
   "metadata": {},
   "source": [
    "## 4. Calculating Means, Medians, and Modes\n",
    "\n",
    "Understanding central tendency metrics such as mean, median, and mode provides insights into the typical values in the dataset."
   ]
  },
  {
   "cell_type": "code",
   "execution_count": null,
   "id": "fc247cb7",
   "metadata": {},
   "outputs": [],
   "source": [
    "# Calculate mean, median, and mode for UnitPrice\n",
    "mean_price = df['UnitPrice'].mean()\n",
    "median_price = df['UnitPrice'].median()\n",
    "mode_price = df['UnitPrice'].mode()[0]\n",
    "\n",
    "print(f\"Mean Unit Price: {mean_price}\")\n",
    "print(f\"Median Unit Price: {median_price}\")\n",
    "print(f\"Mode Unit Price: {mode_price}\")"
   ]
  },
  {
   "cell_type": "markdown",
   "id": "d8b5045e",
   "metadata": {},
   "source": [
    "### 📝 Conclusions from Analysis\n",
    "\n",
    "Based on the analyses conducted:\n",
    "\n",
    "- **Data Expectations and Usability:**  \n",
    "  The dataset appears comprehensive, capturing various aspects of e-commerce transactions. However, **data cleaning is necessary** to handle missing values, duplicates, and potential outliers to ensure reliability.\n",
    "\n",
    "- **Distribution Shape:**  \n",
    "  The **UnitPrice** distribution is likely **right-skewed**, indicating that while most products are priced lower, there are some high-priced items.\n",
    "\n",
    "- **Outliers:**  \n",
    "  High-priced products act as **outliers**. Identifying and analyzing these can provide **insights into premium product sales**.\n",
    "\n",
    "- **Grouped Histogram Insights:**  \n",
    "  Comparing **UnitPrice** distributions across countries may reveal **regional pricing strategies** or **market demands**.\n",
    "\n",
    "- **Minimum and Maximum Values:**  \n",
    "  Determining the **range of UnitPrice** helps in understanding the **pricing spectrum** and identifying any **data entry errors**.\n",
    "\n",
    "- **Effect of Bin Sizes in Histograms:**  \n",
    "  Adjusting bin sizes can either **highlight overall trends** or reveal **finer details** in the data distribution. Experimenting with different bin widths is crucial for a **comprehensive analysis**.\n",
    "\n",
    "- **Distribution Normality:**  \n",
    "  The presence of **skewness and outliers** suggests that the **UnitPrice** distribution **deviates from normality**, which may impact certain **statistical analyses and assumptions**."
   ]
  },
  {
   "cell_type": "markdown",
   "id": "a3f1934f-7ef3-4cbb-84bd-b27d93ba95d2",
   "metadata": {},
   "source": [
    "\n",
    "\n",
    "<h1><mark># 4. Storytelling With Data graph\n",
    "</mark></h1>"
   ]
  },
  {
   "cell_type": "markdown",
   "id": "91ba396b-fc00-48ec-acc6-e026348536f6",
   "metadata": {},
   "source": [
    "Reproduce any graph of your choice in p. 52-68 of the Storytelling With Data book as best you can.  (The second half of chapter two).  You do not have to get the exact data values right, just the overall look and feel."
   ]
  },
  {
   "cell_type": "code",
   "execution_count": null,
   "id": "5a7e4b4b-977a-4b0e-bec2-1f34a514da44",
   "metadata": {},
   "outputs": [],
   "source": []
  }
 ],
 "metadata": {
  "kernelspec": {
   "display_name": "Python 3",
   "language": "python",
   "name": "python3"
  },
  "language_info": {
   "codemirror_mode": {
    "name": "ipython",
    "version": 3
   },
   "file_extension": ".py",
   "mimetype": "text/x-python",
   "name": "python",
   "nbconvert_exporter": "python",
   "pygments_lexer": "ipython3",
   "version": "3.12.4"
  }
 },
 "nbformat": 4,
 "nbformat_minor": 5
}
